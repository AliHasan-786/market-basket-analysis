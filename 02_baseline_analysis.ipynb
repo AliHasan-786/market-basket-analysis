{
 "cells": [
  {
   "cell_type": "markdown",
   "metadata": {},
   "source": [
    "# 📊 Baseline Analysis & Exploration\n",
    "\n",
    "**Step 5: Explore and Build a Baseline Table**\n",
    "\n",
    "This notebook covers:\n",
    "- Loading cleaned data\n",
    "- Basic exploratory analysis\n",
    "- Creating baseline metrics for products\n",
    "- Revenue and transaction analysis\n",
    "- Saving baseline data for promo simulation\n",
    "\n",
    "---"
   ]
  },
  {
   "cell_type": "code",
   "execution_count": 7,
   "metadata": {},
   "outputs": [
    {
     "name": "stdout",
     "output_type": "stream",
     "text": [
      "ROOT: /Users/alihasan/retail-pricing-mba\n",
      "DATA_CLEAN: /Users/alihasan/retail-pricing-mba/data_clean\n",
      "OUTPUTS: /Users/alihasan/retail-pricing-mba/outputs\n"
     ]
    }
   ],
   "source": [
    "from pathlib import Path\n",
    "def project_root(start: Path = None) -> Path:\n",
    "    here = start or Path.cwd()\n",
    "    for p in [here, *here.parents]:\n",
    "        if (p / \"data_raw\").exists() or (p / \"outputs\").exists() or (p / \"data_clean\").exists():\n",
    "            return p\n",
    "    return here\n",
    "ROOT = project_root()\n",
    "DATA_CLEAN = ROOT / \"data_clean\"\n",
    "OUTPUTS = ROOT / \"outputs\"\n",
    "DATA_CLEAN.mkdir(parents=True, exist_ok=True)\n",
    "OUTPUTS.mkdir(parents=True, exist_ok=True)\n",
    "print(\"ROOT:\", ROOT)\n",
    "print(\"DATA_CLEAN:\", DATA_CLEAN)\n",
    "print(\"OUTPUTS:\", OUTPUTS)\n"
   ]
  },
  {
   "cell_type": "code",
   "execution_count": 8,
   "metadata": {},
   "outputs": [
    {
     "name": "stdout",
     "output_type": "stream",
     "text": [
      "✅ Libraries imported successfully!\n"
     ]
    }
   ],
   "source": [
    "# Import required libraries\n",
    "import pandas as pd\n",
    "import numpy as np\n",
    "import matplotlib.pyplot as plt\n",
    "import seaborn as sns\n",
    "import warnings\n",
    "warnings.filterwarnings('ignore')\n",
    "\n",
    "print(\"✅ Libraries imported successfully!\")"
   ]
  },
  {
   "cell_type": "code",
   "execution_count": 9,
   "metadata": {},
   "outputs": [
    {
     "name": "stdout",
     "output_type": "stream",
     "text": [
      "✅ Cleaned data loaded: 407,664 rows × 10 columns\n"
     ]
    }
   ],
   "source": [
    "# Load cleaned transactions\n",
    "df = pd.read_csv('../data_clean/transactions.csv')\n",
    "df['InvoiceDate'] = pd.to_datetime(df['InvoiceDate'])\n",
    "\n",
    "print(f\"✅ Cleaned data loaded: {len(df):,} rows × {len(df.columns)} columns\")"
   ]
  },
  {
   "cell_type": "code",
   "execution_count": 10,
   "metadata": {},
   "outputs": [
    {
     "name": "stdout",
     "output_type": "stream",
     "text": [
      "✅ Baseline metrics created for 4,405 products\n"
     ]
    }
   ],
   "source": [
    "# Create baseline metrics for each product\n",
    "top_products = (df.groupby('Description')\n",
    "                .agg({\n",
    "                    'StockCode': 'first',\n",
    "                    'Quantity': 'sum',\n",
    "                    'TotalPrice': 'sum',\n",
    "                    'Price': 'mean',\n",
    "                    'Invoice': 'nunique'\n",
    "                })\n",
    "                .rename(columns={\n",
    "                    'StockCode': 'StockCode',\n",
    "                    'Quantity': 'units',\n",
    "                    'TotalPrice': 'revenue',\n",
    "                    'Price': 'avg_price',\n",
    "                    'Invoice': 'tx_count'\n",
    "                })\n",
    "                .sort_values('revenue', ascending=False))\n",
    "\n",
    "print(f\"✅ Baseline metrics created for {len(top_products):,} products\")"
   ]
  },
  {
   "cell_type": "code",
   "execution_count": 11,
   "metadata": {},
   "outputs": [
    {
     "name": "stdout",
     "output_type": "stream",
     "text": [
      "✅ Margin assumptions added (50% margin rate)\n"
     ]
    }
   ],
   "source": [
    "# Add margin assumptions\n",
    "top_products['margin_rate'] = 0.50  # Assume 50% margin\n",
    "top_products['baseline_margin'] = top_products['revenue'] * top_products['margin_rate']\n",
    "\n",
    "print(\"✅ Margin assumptions added (50% margin rate)\")"
   ]
  },
  {
   "cell_type": "code",
   "execution_count": 12,
   "metadata": {},
   "outputs": [
    {
     "name": "stdout",
     "output_type": "stream",
     "text": [
      "✅ Baseline data saved to outputs/sku_baseline.csv\n",
      "✅ Top 500 products saved to outputs/top_500_products.csv\n"
     ]
    }
   ],
   "source": [
    "# Save baseline data\n",
    "top_products.to_csv('../outputs/sku_baseline.csv')\n",
    "top_500_products = top_products.head(500)\n",
    "top_500_products.to_csv('../outputs/top_500_products.csv')\n",
    "\n",
    "print(\"✅ Baseline data saved to outputs/sku_baseline.csv\")\n",
    "print(\"✅ Top 500 products saved to outputs/top_500_products.csv\")"
   ]
  }
 ],
 "metadata": {
  "kernelspec": {
   "display_name": "base",
   "language": "python",
   "name": "python3"
  },
  "language_info": {
   "codemirror_mode": {
    "name": "ipython",
    "version": 3
   },
   "file_extension": ".py",
   "mimetype": "text/x-python",
   "name": "python",
   "nbconvert_exporter": "python",
   "pygments_lexer": "ipython3",
   "version": "3.8.8"
  }
 },
 "nbformat": 4,
 "nbformat_minor": 4
}
