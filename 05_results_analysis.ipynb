{
 "cells": [
  {
   "cell_type": "markdown",
   "metadata": {},
   "source": [
    "# 📊 Results Analysis & Insights\n",
    "\n",
    "**Step 10: Review Results & Next Steps**\n",
    "\n",
    "This notebook covers:\n",
    "- Review association rules insights\n",
    "- Analyze promo simulation results\n",
    "- Data quality audit review\n",
    "- Generate executive summary\n",
    "- Prepare recommendations\n",
    "\n",
    "---"
   ]
  },
  {
   "cell_type": "code",
   "execution_count": 1,
   "metadata": {},
   "outputs": [
    {
     "name": "stdout",
     "output_type": "stream",
     "text": [
      "ROOT: /Users/alihasan/retail-pricing-mba\n",
      "DATA_CLEAN: /Users/alihasan/retail-pricing-mba/data_clean\n",
      "OUTPUTS: /Users/alihasan/retail-pricing-mba/outputs\n"
     ]
    }
   ],
   "source": [
    "from pathlib import Path\n",
    "def project_root(start: Path = None) -> Path:\n",
    "    here = start or Path.cwd()\n",
    "    for p in [here, *here.parents]:\n",
    "        if (p / \"data_raw\").exists() or (p / \"outputs\").exists() or (p / \"data_clean\").exists():\n",
    "            return p\n",
    "    return here\n",
    "ROOT = project_root()\n",
    "DATA_CLEAN = ROOT / \"data_clean\"\n",
    "OUTPUTS = ROOT / \"outputs\"\n",
    "DATA_CLEAN.mkdir(parents=True, exist_ok=True)\n",
    "OUTPUTS.mkdir(parents=True, exist_ok=True)\n",
    "print(\"ROOT:\", ROOT)\n",
    "print(\"DATA_CLEAN:\", DATA_CLEAN)\n",
    "print(\"OUTPUTS:\", OUTPUTS)\n"
   ]
  },
  {
   "cell_type": "code",
   "execution_count": 2,
   "metadata": {},
   "outputs": [
    {
     "name": "stdout",
     "output_type": "stream",
     "text": [
      "✅ Libraries and modules imported successfully!\n"
     ]
    }
   ],
   "source": [
    "# Import required libraries\n",
    "import pandas as pd\n",
    "import numpy as np\n",
    "import sys\n",
    "import os\n",
    "\n",
    "# Add src directory to path\n",
    "sys.path.append('..')\n",
    "from src.data_quality_audit import audit_data_quality, generate_audit_report\n",
    "\n",
    "print(\"✅ Libraries and modules imported successfully!\")"
   ]
  },
  {
   "cell_type": "code",
   "execution_count": 3,
   "metadata": {},
   "outputs": [
    {
     "name": "stdout",
     "output_type": "stream",
     "text": [
      "✅ All results loaded successfully!\n"
     ]
    }
   ],
   "source": [
    "# Load all results\n",
    "df_raw = pd.read_excel('../data_raw/online_retail_II.xlsx')\n",
    "df_clean = pd.read_csv('../data_clean/transactions.csv')\n",
    "baseline_data = pd.read_csv('../outputs/sku_baseline.csv')\n",
    "association_rules = pd.read_csv('../outputs/assoc_rules_pairs.csv')\n",
    "promo_scenarios = pd.read_csv('../outputs/promo_scenarios_summary.csv')\n",
    "\n",
    "print(\"✅ All results loaded successfully!\")"
   ]
  },
  {
   "cell_type": "code",
   "execution_count": 4,
   "metadata": {},
   "outputs": [
    {
     "name": "stdout",
     "output_type": "stream",
     "text": [
      "📊 Data Quality Audit Report Generated!\n",
      "📁 Saved to: ../outputs/data_quality_audit.csv\n",
      "\n",
      "🔍 Key Findings:\n",
      "   • Raw data: 525,461 rows\n",
      "   • Clean data: 407,664 rows\n",
      "   • Rows removed: 117,797 (22.4%)\n",
      "   • Missing descriptions: 2,928\n",
      "   • Missing customer IDs: 107,927\n",
      "   • Cancellations: 10,206\n",
      "   • SKUs with multiple descriptions: 687\n",
      "✅ Data quality audit completed\n"
     ]
    }
   ],
   "source": [
    "# Run data quality audit\n",
    "audit_results = audit_data_quality(df_raw, df_clean)\n",
    "audit_report = generate_audit_report(audit_results, '../outputs/data_quality_audit.csv')\n",
    "\n",
    "print(\"✅ Data quality audit completed\")"
   ]
  },
  {
   "cell_type": "code",
   "execution_count": 5,
   "metadata": {},
   "outputs": [
    {
     "name": "stdout",
     "output_type": "stream",
     "text": [
      "✅ Executive summary saved\n"
     ]
    }
   ],
   "source": [
    "# Generate executive summary\n",
    "executive_summary = {\n",
    "    'Section': ['Project Overview', 'Dataset Size', 'Total Revenue', 'Products Analyzed', 'Association Rules', 'Promo Scenarios'],\n",
    "    'Value': [\n",
    "        'Retail Pricing MBA Analysis',\n",
    "        f'{len(df_raw):,} transactions',\n",
    "        f'£{df_clean[\"TotalPrice\"].sum():,.0f}',\n",
    "        f'{len(baseline_data):,}',\n",
    "        f'{len(association_rules):,}',\n",
    "        f'{len(promo_scenarios):,}'\n",
    "    ]\n",
    "}\n",
    "\n",
    "executive_summary_df = pd.DataFrame(executive_summary)\n",
    "executive_summary_df.to_csv('../outputs/executive_summary.csv', index=False)\n",
    "print(\"✅ Executive summary saved\")"
   ]
  },
  {
   "cell_type": "code",
   "execution_count": 6,
   "metadata": {},
   "outputs": [
    {
     "name": "stdout",
     "output_type": "stream",
     "text": [
      "🎉 PROJECT COMPLETION STATUS\n",
      "==================================================\n",
      "✅ All 10 steps completed successfully!\n",
      "📁 Check outputs/ folder for results\n",
      "📊 Launch dashboard: streamlit run streamlit_app.py\n"
     ]
    }
   ],
   "source": [
    "# Display final summary\n",
    "print(\"🎉 PROJECT COMPLETION STATUS\")\n",
    "print(\"=\" * 50)\n",
    "print(f\"✅ All 10 steps completed successfully!\")\n",
    "print(f\"📁 Check outputs/ folder for results\")\n",
    "print(f\"📊 Launch dashboard: streamlit run streamlit_app.py\")"
   ]
  }
 ],
 "metadata": {
  "kernelspec": {
   "display_name": "base",
   "language": "python",
   "name": "python3"
  },
  "language_info": {
   "codemirror_mode": {
    "name": "ipython",
    "version": 3
   },
   "file_extension": ".py",
   "mimetype": "text/x-python",
   "name": "python",
   "nbconvert_exporter": "python",
   "pygments_lexer": "ipython3",
   "version": "3.8.8"
  }
 },
 "nbformat": 4,
 "nbformat_minor": 4
}
