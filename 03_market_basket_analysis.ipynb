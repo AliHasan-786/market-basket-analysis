{
 "cells": [
  {
   "cell_type": "markdown",
   "metadata": {},
   "source": [
    "# 🛒 Market Basket Analysis & Association Rules\n",
    "\n",
    "**Steps 6-7: Prepare Baskets and Compute Association Rules**\n",
    "\n",
    "This notebook covers:\n",
    "- 6.1 Focus on Top Products\n",
    "- 6.2 Create Baskets\n",
    "- 7.1 Count Frequencies\n",
    "- 7.2 Calculate Support, Confidence, and Lift\n",
    "- Filter and save association rules\n",
    "\n",
    "---"
   ]
  },
  {
   "cell_type": "code",
   "execution_count": 1,
   "metadata": {},
   "outputs": [
    {
     "name": "stdout",
     "output_type": "stream",
     "text": [
      "ROOT: /Users/alihasan/retail-pricing-mba\n",
      "DATA_CLEAN: /Users/alihasan/retail-pricing-mba/data_clean\n",
      "OUTPUTS: /Users/alihasan/retail-pricing-mba/outputs\n"
     ]
    }
   ],
   "source": [
    "from pathlib import Path\n",
    "def project_root(start: Path = None) -> Path:\n",
    "    here = start or Path.cwd()\n",
    "    for p in [here, *here.parents]:\n",
    "        if (p / \"data_raw\").exists() or (p / \"outputs\").exists() or (p / \"data_clean\").exists():\n",
    "            return p\n",
    "    return here\n",
    "ROOT = project_root()\n",
    "DATA_CLEAN = ROOT / \"data_clean\"\n",
    "OUTPUTS = ROOT / \"outputs\"\n",
    "DATA_CLEAN.mkdir(parents=True, exist_ok=True)\n",
    "OUTPUTS.mkdir(parents=True, exist_ok=True)\n",
    "print(\"ROOT:\", ROOT)\n",
    "print(\"DATA_CLEAN:\", DATA_CLEAN)\n",
    "print(\"OUTPUTS:\", OUTPUTS)\n"
   ]
  },
  {
   "cell_type": "code",
   "execution_count": 2,
   "metadata": {},
   "outputs": [
    {
     "name": "stdout",
     "output_type": "stream",
     "text": [
      "✅ Libraries imported successfully!\n"
     ]
    }
   ],
   "source": [
    "# Import required libraries\n",
    "import pandas as pd\n",
    "import numpy as np\n",
    "from collections import Counter\n",
    "import itertools\n",
    "import warnings\n",
    "warnings.filterwarnings('ignore')\n",
    "\n",
    "print(\"✅ Libraries imported successfully!\")"
   ]
  },
  {
   "cell_type": "code",
   "execution_count": 3,
   "metadata": {},
   "outputs": [
    {
     "name": "stdout",
     "output_type": "stream",
     "text": [
      "✅ Filtered dataset: 197,031 rows\n"
     ]
    }
   ],
   "source": [
    "# Load data\n",
    "df = pd.read_csv('../data_clean/transactions.csv')\n",
    "top_500_products = pd.read_csv('../outputs/top_500_products.csv')\n",
    "\n",
    "top_list = top_500_products['Description'].tolist()\n",
    "df_top = df[df['Description'].isin(top_list)].copy()\n",
    "\n",
    "print(f\"✅ Filtered dataset: {len(df_top):,} rows\")"
   ]
  },
  {
   "cell_type": "code",
   "execution_count": 4,
   "metadata": {},
   "outputs": [
    {
     "name": "stdout",
     "output_type": "stream",
     "text": [
      "✅ Created 18,062 market baskets\n"
     ]
    }
   ],
   "source": [
    "# Create baskets\n",
    "baskets = (df_top.groupby('Invoice')['Description']\n",
    "           .apply(lambda s: sorted(set(s.tolist())))\n",
    "           .tolist())\n",
    "\n",
    "print(f\"✅ Created {len(baskets):,} market baskets\")"
   ]
  },
  {
   "cell_type": "code",
   "execution_count": 5,
   "metadata": {},
   "outputs": [
    {
     "name": "stdout",
     "output_type": "stream",
     "text": [
      "✅ Counted 500 individual items\n",
      "✅ Counted 116,112 item pairs\n"
     ]
    }
   ],
   "source": [
    "# Count frequencies\n",
    "item_counts = Counter()\n",
    "pair_counts = Counter()\n",
    "total_baskets = len(baskets)\n",
    "\n",
    "for basket in baskets:\n",
    "    for item in basket:\n",
    "        item_counts[item] += 1\n",
    "    if len(basket) >= 2:\n",
    "        for combo in itertools.combinations(basket, 2):\n",
    "            pair = tuple(sorted(combo))\n",
    "            pair_counts[pair] += 1\n",
    "\n",
    "print(f\"✅ Counted {len(item_counts):,} individual items\")\n",
    "print(f\"✅ Counted {len(pair_counts):,} item pairs\")"
   ]
  },
  {
   "cell_type": "code",
   "execution_count": 6,
   "metadata": {},
   "outputs": [
    {
     "name": "stdout",
     "output_type": "stream",
     "text": [
      "✅ Calculated metrics for 232,224 association rules\n"
     ]
    }
   ],
   "source": [
    "# Calculate association rules\n",
    "association_rules = []\n",
    "\n",
    "for pair, pair_count in pair_counts.items():\n",
    "    item_a, item_b = pair\n",
    "    support_ab = pair_count / total_baskets\n",
    "    support_a = item_counts[item_a] / total_baskets\n",
    "    support_b = item_counts[item_b] / total_baskets\n",
    "    \n",
    "    confidence_ab = support_ab / support_a if support_a > 0 else 0\n",
    "    confidence_ba = support_ab / support_b if support_b > 0 else 0\n",
    "    lift_ab = support_ab / (support_a * support_b) if (support_a * support_b) > 0 else 0\n",
    "    \n",
    "    # Add both directions\n",
    "    association_rules.append({\n",
    "        'antecedent': item_a, 'consequent': item_b,\n",
    "        'support': support_ab, 'confidence': confidence_ab, 'lift': lift_ab,\n",
    "        'pair_count': pair_count\n",
    "    })\n",
    "    association_rules.append({\n",
    "        'antecedent': item_b, 'consequent': item_a,\n",
    "        'support': support_ab, 'confidence': confidence_ba, 'lift': lift_ab,\n",
    "        'pair_count': pair_count\n",
    "    })\n",
    "\n",
    "print(f\"✅ Calculated metrics for {len(association_rules):,} association rules\")"
   ]
  },
  {
   "cell_type": "code",
   "execution_count": 7,
   "metadata": {},
   "outputs": [
    {
     "name": "stdout",
     "output_type": "stream",
     "text": [
      "✅ Association rules saved: 2,118 rules\n"
     ]
    }
   ],
   "source": [
    "# Filter and save rules\n",
    "rules_df = pd.DataFrame(association_rules)\n",
    "filtered_rules = rules_df[\n",
    "    (rules_df['confidence'] >= 0.20) &\n",
    "    (rules_df['lift'] > 1.0) &\n",
    "    (rules_df['support'] >= 0.001)\n",
    "].copy()\n",
    "\n",
    "filtered_rules.to_csv('../outputs/assoc_rules_pairs.csv', index=False)\n",
    "print(f\"✅ Association rules saved: {len(filtered_rules):,} rules\")"
   ]
  }
 ],
 "metadata": {
  "kernelspec": {
   "display_name": "base",
   "language": "python",
   "name": "python3"
  },
  "language_info": {
   "codemirror_mode": {
    "name": "ipython",
    "version": 3
   },
   "file_extension": ".py",
   "mimetype": "text/x-python",
   "name": "python",
   "nbconvert_exporter": "python",
   "pygments_lexer": "ipython3",
   "version": "3.8.8"
  }
 },
 "nbformat": 4,
 "nbformat_minor": 4
}
