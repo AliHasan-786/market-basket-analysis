{
 "cells": [
  {
   "cell_type": "markdown",
   "metadata": {},
   "source": [
    "# 💰 Promo Pricing Simulation\n",
    "\n",
    "**Step 8: Build the Promo Pricing Simulator**\n",
    "\n",
    "This notebook covers:\n",
    "- 8.1 Define Assumptions\n",
    "- 8.2 Create a Function\n",
    "- Run batch scenarios for top products\n",
    "- Analyze promo impacts and cross-sell effects\n",
    "- Save detailed results\n",
    "\n",
    "---"
   ]
  },
  {
   "cell_type": "code",
   "execution_count": 1,
   "metadata": {},
   "outputs": [
    {
     "name": "stdout",
     "output_type": "stream",
     "text": [
      "ROOT: /Users/alihasan/retail-pricing-mba\n",
      "DATA_CLEAN: /Users/alihasan/retail-pricing-mba/data_clean\n",
      "OUTPUTS: /Users/alihasan/retail-pricing-mba/outputs\n"
     ]
    }
   ],
   "source": [
    "from pathlib import Path\n",
    "def project_root(start: Path = None) -> Path:\n",
    "    here = start or Path.cwd()\n",
    "    for p in [here, *here.parents]:\n",
    "        if (p / \"data_raw\").exists() or (p / \"outputs\").exists() or (p / \"data_clean\").exists():\n",
    "            return p\n",
    "    return here\n",
    "ROOT = project_root()\n",
    "DATA_CLEAN = ROOT / \"data_clean\"\n",
    "OUTPUTS = ROOT / \"outputs\"\n",
    "DATA_CLEAN.mkdir(parents=True, exist_ok=True)\n",
    "OUTPUTS.mkdir(parents=True, exist_ok=True)\n",
    "print(\"ROOT:\", ROOT)\n",
    "print(\"DATA_CLEAN:\", DATA_CLEAN)\n",
    "print(\"OUTPUTS:\", OUTPUTS)\n"
   ]
  },
  {
   "cell_type": "code",
   "execution_count": 2,
   "metadata": {},
   "outputs": [
    {
     "name": "stdout",
     "output_type": "stream",
     "text": [
      "✅ Libraries and modules imported successfully!\n"
     ]
    }
   ],
   "source": [
    "# Import required libraries\n",
    "import pandas as pd\n",
    "import numpy as np\n",
    "import sys\n",
    "import os\n",
    "\n",
    "# Add src directory to path\n",
    "sys.path.append('..')\n",
    "from src.promo_simulator import PromoSimulator\n",
    "\n",
    "print(\"✅ Libraries and modules imported successfully!\")"
   ]
  },
  {
   "cell_type": "code",
   "execution_count": 3,
   "metadata": {},
   "outputs": [
    {
     "name": "stdout",
     "output_type": "stream",
     "text": [
      "✅ Baseline data: 4,405 products\n",
      "✅ Association rules: 2,118 rules\n"
     ]
    }
   ],
   "source": [
    "# Load data\n",
    "baseline_data = pd.read_csv('../outputs/sku_baseline.csv')\n",
    "association_rules = pd.read_csv('../outputs/assoc_rules_pairs.csv')\n",
    "\n",
    "print(f\"✅ Baseline data: {len(baseline_data):,} products\")\n",
    "print(f\"✅ Association rules: {len(association_rules):,} rules\")"
   ]
  },
  {
   "cell_type": "code",
   "execution_count": 4,
   "metadata": {},
   "outputs": [
    {
     "name": "stdout",
     "output_type": "stream",
     "text": [
      "✅ Promo Simulator initialized\n"
     ]
    }
   ],
   "source": [
    "# Initialize simulator\n",
    "top_10_products = baseline_data.head(10)['Description'].tolist()\n",
    "discount_levels = [0.05, 0.10, 0.20]\n",
    "\n",
    "simulator = PromoSimulator(\n",
    "    baseline_data=baseline_data,\n",
    "    association_rules=association_rules,\n",
    "    elasticity=-1.2,\n",
    "    dampening_factor=0.3\n",
    ")\n",
    "\n",
    "print(\"✅ Promo Simulator initialized\")"
   ]
  },
  {
   "cell_type": "code",
   "execution_count": 5,
   "metadata": {},
   "outputs": [
    {
     "name": "stdout",
     "output_type": "stream",
     "text": [
      "✅ Batch scenarios completed: 30 scenarios\n"
     ]
    }
   ],
   "source": [
    "# Run batch scenarios\n",
    "scenarios_df = simulator.run_batch_scenarios(\n",
    "    top_products=top_10_products,\n",
    "    discount_levels=discount_levels\n",
    ")\n",
    "\n",
    "print(f\"✅ Batch scenarios completed: {len(scenarios_df):,} scenarios\")"
   ]
  },
  {
   "cell_type": "code",
   "execution_count": 6,
   "metadata": {},
   "outputs": [
    {
     "name": "stdout",
     "output_type": "stream",
     "text": [
      "📊 Promo scenarios saved to: ../outputs/promo_scenarios_summary.csv\n",
      "✅ Results saved to outputs/ folder\n"
     ]
    }
   ],
   "source": [
    "# Save results\n",
    "simulator.save_scenario_results(scenarios_df, '../outputs/promo_scenarios_summary.csv')\n",
    "\n",
    "cross_sell_analysis = scenarios_df[scenarios_df['cross_sell_margin_impact'] > 0].copy()\n",
    "cross_sell_analysis.to_csv('../outputs/cross_sell_analysis.csv', index=False)\n",
    "\n",
    "print(\"✅ Results saved to outputs/ folder\")"
   ]
  }
 ],
 "metadata": {
  "kernelspec": {
   "display_name": "base",
   "language": "python",
   "name": "python3"
  },
  "language_info": {
   "codemirror_mode": {
    "name": "ipython",
    "version": 3
   },
   "file_extension": ".py",
   "mimetype": "text/x-python",
   "name": "python",
   "nbconvert_exporter": "python",
   "pygments_lexer": "ipython3",
   "version": "3.8.8"
  }
 },
 "nbformat": 4,
 "nbformat_minor": 4
}
